{
 "cells": [
  {
   "cell_type": "code",
   "execution_count": 1,
   "metadata": {},
   "outputs": [],
   "source": [
    "import numpy as np\n",
    "import pandas as pd\n",
    "from sklearn import preprocessing"
   ]
  },
  {
   "cell_type": "markdown",
   "metadata": {},
   "source": [
    "# Preparing the Data\n"
   ]
  },
  {
   "cell_type": "code",
   "execution_count": 2,
   "metadata": {},
   "outputs": [
    {
     "name": "stdout",
     "output_type": "stream",
     "text": [
      "Shape of kddCupTrain:  (985262, 42)\n",
      "There are any missing values:  False\n",
      "   0    1     2   3    4      5   6   7   8   9   ...  32   33   34   35   36  \\\n",
      "0   0  tcp  http  SF  215  45076   0   0   0   0  ...   0  0.0  0.0  0.0  0.0   \n",
      "1   0  tcp  http  SF  162   4528   0   0   0   0  ...   1  1.0  0.0  1.0  0.0   \n",
      "2   0  tcp  http  SF  236   1228   0   0   0   0  ...   2  1.0  0.0  0.5  0.0   \n",
      "\n",
      "    37   38   39   40       41  \n",
      "0  0.0  0.0  0.0  0.0  normal.  \n",
      "1  0.0  0.0  0.0  0.0  normal.  \n",
      "2  0.0  0.0  0.0  0.0  normal.  \n",
      "\n",
      "[3 rows x 42 columns]\n"
     ]
    }
   ],
   "source": [
    "kddCupTrain = pd.read_csv('KddCupData/kddCupTrain.csv',header=None)\n",
    "print(\"Shape of kddCupTrain: \",kddCupTrain.shape)\n",
    "print(\"There are any missing values: \", kddCupTrain.isnull().values.any())\n",
    "print(kddCupTrain.head(3))"
   ]
  },
  {
   "cell_type": "code",
   "execution_count": 3,
   "metadata": {},
   "outputs": [
    {
     "data": {
      "text/plain": [
       "array(['normal.', 'ipsweep.'], dtype=object)"
      ]
     },
     "execution_count": 3,
     "metadata": {},
     "output_type": "execute_result"
    }
   ],
   "source": [
    "kddCupTrain.iloc[:,-1].unique()"
   ]
  },
  {
   "cell_type": "code",
   "execution_count": 4,
   "metadata": {},
   "outputs": [],
   "source": [
    "kddCupTrain.rename(columns={41:'Class'}, inplace=True)\n",
    "kddCupTrain['Class'] = np.where(kddCupTrain['Class'] == 'normal.', 0, 1)"
   ]
  },
  {
   "cell_type": "code",
   "execution_count": 5,
   "metadata": {},
   "outputs": [
    {
     "name": "stdout",
     "output_type": "stream",
     "text": [
      "0    972781\n",
      "1     12481\n",
      "Name: Class, dtype: int64\n"
     ]
    }
   ],
   "source": [
    "count_classes = pd.value_counts(kddCupTrain['Class'], sort = True)\n",
    "print(count_classes)"
   ]
  },
  {
   "cell_type": "markdown",
   "metadata": {},
   "source": [
    "# Remove the uninformative columns"
   ]
  },
  {
   "cell_type": "code",
   "execution_count": 6,
   "metadata": {},
   "outputs": [
    {
     "name": "stdout",
     "output_type": "stream",
     "text": [
      "                   0             4             5              6         7  \\\n",
      "count  985262.000000  9.852620e+05  9.852620e+05  985262.000000  985262.0   \n",
      "mean      215.078631  1.459258e+03  3.193730e+03       0.000007       0.0   \n",
      "std      1343.633640  1.097984e+05  3.401613e+04       0.002665       0.0   \n",
      "min         0.000000  0.000000e+00  0.000000e+00       0.000000       0.0   \n",
      "50%         0.000000  2.300000e+02  4.060000e+02       0.000000       0.0   \n",
      "max     58329.000000  8.958152e+07  1.173059e+07       1.000000       0.0   \n",
      "\n",
      "                   8              9             10             11  \\\n",
      "count  985262.000000  985262.000000  985262.000000  985262.000000   \n",
      "mean        0.000036       0.048908       0.000097       0.710185   \n",
      "std         0.015897       0.926008       0.013058       0.453677   \n",
      "min         0.000000       0.000000       0.000000       0.000000   \n",
      "50%         0.000000       0.000000       0.000000       1.000000   \n",
      "max        14.000000      77.000000       4.000000       1.000000   \n",
      "\n",
      "                  12  ...             32             33             34  \\\n",
      "count  985262.000000  ...  985262.000000  985262.000000  985262.000000   \n",
      "mean        0.037907  ...     201.430712       0.845963       0.056712   \n",
      "std         8.598590  ...      87.382719       0.304934       0.181323   \n",
      "min         0.000000  ...       0.000000       0.000000       0.000000   \n",
      "50%         0.000000  ...     255.000000       1.000000       0.000000   \n",
      "max      7479.000000  ...     255.000000       1.000000       1.000000   \n",
      "\n",
      "                  35             36             37             38  \\\n",
      "count  985262.000000  985262.000000  985262.000000  985262.000000   \n",
      "mean        0.145018       0.031659       0.002014       0.001037   \n",
      "std         0.295592       0.086754       0.028357       0.015326   \n",
      "min         0.000000       0.000000       0.000000       0.000000   \n",
      "50%         0.010000       0.010000       0.000000       0.000000   \n",
      "max         1.000000       1.000000       1.000000       1.000000   \n",
      "\n",
      "                  39             40          Class  \n",
      "count  985262.000000  985262.000000  985262.000000  \n",
      "mean        0.057911       0.056161       0.012668  \n",
      "std         0.225341       0.219637       0.111836  \n",
      "min         0.000000       0.000000       0.000000  \n",
      "50%         0.000000       0.000000       0.000000  \n",
      "max         1.000000       1.000000       1.000000  \n",
      "\n",
      "[6 rows x 39 columns]\n"
     ]
    }
   ],
   "source": [
    "print(kddCupTrain.describe(percentiles=[]))"
   ]
  },
  {
   "cell_type": "code",
   "execution_count": 7,
   "metadata": {},
   "outputs": [],
   "source": [
    "columnsList = [19,7]"
   ]
  },
  {
   "cell_type": "code",
   "execution_count": 8,
   "metadata": {},
   "outputs": [],
   "source": [
    "kddCupTrain.drop(columnsList, axis=1, inplace=True)"
   ]
  },
  {
   "cell_type": "markdown",
   "metadata": {},
   "source": [
    "# Transform symbolic features to \"One Hot\" columns\n"
   ]
  },
  {
   "cell_type": "code",
   "execution_count": 9,
   "metadata": {},
   "outputs": [],
   "source": [
    "kddCupTrain = pd.get_dummies(kddCupTrain, columns = [1,2,3])"
   ]
  },
  {
   "cell_type": "code",
   "execution_count": 10,
   "metadata": {},
   "outputs": [
    {
     "data": {
      "text/html": [
       "<div>\n",
       "<style scoped>\n",
       "    .dataframe tbody tr th:only-of-type {\n",
       "        vertical-align: middle;\n",
       "    }\n",
       "\n",
       "    .dataframe tbody tr th {\n",
       "        vertical-align: top;\n",
       "    }\n",
       "\n",
       "    .dataframe thead th {\n",
       "        text-align: right;\n",
       "    }\n",
       "</style>\n",
       "<table border=\"1\" class=\"dataframe\">\n",
       "  <thead>\n",
       "    <tr style=\"text-align: right;\">\n",
       "      <th></th>\n",
       "      <th>0</th>\n",
       "      <th>4</th>\n",
       "      <th>5</th>\n",
       "      <th>6</th>\n",
       "      <th>8</th>\n",
       "      <th>9</th>\n",
       "      <th>10</th>\n",
       "      <th>11</th>\n",
       "      <th>12</th>\n",
       "      <th>13</th>\n",
       "      <th>...</th>\n",
       "      <th>3_OTH</th>\n",
       "      <th>3_REJ</th>\n",
       "      <th>3_RSTO</th>\n",
       "      <th>3_RSTR</th>\n",
       "      <th>3_S0</th>\n",
       "      <th>3_S1</th>\n",
       "      <th>3_S2</th>\n",
       "      <th>3_S3</th>\n",
       "      <th>3_SF</th>\n",
       "      <th>3_SH</th>\n",
       "    </tr>\n",
       "  </thead>\n",
       "  <tbody>\n",
       "    <tr>\n",
       "      <th>0</th>\n",
       "      <td>0</td>\n",
       "      <td>215</td>\n",
       "      <td>45076</td>\n",
       "      <td>0</td>\n",
       "      <td>0</td>\n",
       "      <td>0</td>\n",
       "      <td>0</td>\n",
       "      <td>1</td>\n",
       "      <td>0</td>\n",
       "      <td>0</td>\n",
       "      <td>...</td>\n",
       "      <td>0</td>\n",
       "      <td>0</td>\n",
       "      <td>0</td>\n",
       "      <td>0</td>\n",
       "      <td>0</td>\n",
       "      <td>0</td>\n",
       "      <td>0</td>\n",
       "      <td>0</td>\n",
       "      <td>1</td>\n",
       "      <td>0</td>\n",
       "    </tr>\n",
       "    <tr>\n",
       "      <th>1</th>\n",
       "      <td>0</td>\n",
       "      <td>162</td>\n",
       "      <td>4528</td>\n",
       "      <td>0</td>\n",
       "      <td>0</td>\n",
       "      <td>0</td>\n",
       "      <td>0</td>\n",
       "      <td>1</td>\n",
       "      <td>0</td>\n",
       "      <td>0</td>\n",
       "      <td>...</td>\n",
       "      <td>0</td>\n",
       "      <td>0</td>\n",
       "      <td>0</td>\n",
       "      <td>0</td>\n",
       "      <td>0</td>\n",
       "      <td>0</td>\n",
       "      <td>0</td>\n",
       "      <td>0</td>\n",
       "      <td>1</td>\n",
       "      <td>0</td>\n",
       "    </tr>\n",
       "  </tbody>\n",
       "</table>\n",
       "<p>2 rows × 84 columns</p>\n",
       "</div>"
      ],
      "text/plain": [
       "   0    4      5  6  8  9  10  11  12  13  ...  3_OTH  3_REJ  3_RSTO  3_RSTR  \\\n",
       "0  0  215  45076  0  0  0   0   1   0   0  ...      0      0       0       0   \n",
       "1  0  162   4528  0  0  0   0   1   0   0  ...      0      0       0       0   \n",
       "\n",
       "   3_S0  3_S1  3_S2  3_S3  3_SF  3_SH  \n",
       "0     0     0     0     0     1     0  \n",
       "1     0     0     0     0     1     0  \n",
       "\n",
       "[2 rows x 84 columns]"
      ]
     },
     "execution_count": 10,
     "metadata": {},
     "output_type": "execute_result"
    }
   ],
   "source": [
    "kddCupTrain.head(2)"
   ]
  },
  {
   "cell_type": "code",
   "execution_count": 11,
   "metadata": {},
   "outputs": [
    {
     "data": {
      "text/plain": [
       "(985262, 84)"
      ]
     },
     "execution_count": 11,
     "metadata": {},
     "output_type": "execute_result"
    }
   ],
   "source": [
    "kddCupTrain.shape"
   ]
  },
  {
   "cell_type": "markdown",
   "metadata": {},
   "source": [
    "# Standardize the training dataset"
   ]
  },
  {
   "cell_type": "code",
   "execution_count": 12,
   "metadata": {},
   "outputs": [],
   "source": [
    "featuresList = [col for col in kddCupTrain if col != 'Class']"
   ]
  },
  {
   "cell_type": "code",
   "execution_count": 13,
   "metadata": {},
   "outputs": [],
   "source": [
    "scaler = preprocessing.StandardScaler()\n",
    "scaler.fit(kddCupTrain[featuresList]);"
   ]
  },
  {
   "cell_type": "code",
   "execution_count": 14,
   "metadata": {},
   "outputs": [
    {
     "data": {
      "text/html": [
       "<div>\n",
       "<style scoped>\n",
       "    .dataframe tbody tr th:only-of-type {\n",
       "        vertical-align: middle;\n",
       "    }\n",
       "\n",
       "    .dataframe tbody tr th {\n",
       "        vertical-align: top;\n",
       "    }\n",
       "\n",
       "    .dataframe thead th {\n",
       "        text-align: right;\n",
       "    }\n",
       "</style>\n",
       "<table border=\"1\" class=\"dataframe\">\n",
       "  <thead>\n",
       "    <tr style=\"text-align: right;\">\n",
       "      <th></th>\n",
       "      <th>0</th>\n",
       "      <th>4</th>\n",
       "      <th>5</th>\n",
       "      <th>6</th>\n",
       "      <th>8</th>\n",
       "      <th>9</th>\n",
       "      <th>10</th>\n",
       "      <th>11</th>\n",
       "      <th>12</th>\n",
       "      <th>13</th>\n",
       "      <th>...</th>\n",
       "      <th>3_OTH</th>\n",
       "      <th>3_REJ</th>\n",
       "      <th>3_RSTO</th>\n",
       "      <th>3_RSTR</th>\n",
       "      <th>3_S0</th>\n",
       "      <th>3_S1</th>\n",
       "      <th>3_S2</th>\n",
       "      <th>3_S3</th>\n",
       "      <th>3_SF</th>\n",
       "      <th>3_SH</th>\n",
       "    </tr>\n",
       "  </thead>\n",
       "  <tbody>\n",
       "    <tr>\n",
       "      <th>0</th>\n",
       "      <td>-0.160072</td>\n",
       "      <td>-0.011332</td>\n",
       "      <td>1.231248</td>\n",
       "      <td>-0.002665</td>\n",
       "      <td>-0.002235</td>\n",
       "      <td>-0.052816</td>\n",
       "      <td>-0.007462</td>\n",
       "      <td>0.638815</td>\n",
       "      <td>-0.004408</td>\n",
       "      <td>-0.01751</td>\n",
       "      <td>...</td>\n",
       "      <td>-0.003632</td>\n",
       "      <td>-0.2415</td>\n",
       "      <td>-0.025415</td>\n",
       "      <td>-0.018415</td>\n",
       "      <td>-0.020749</td>\n",
       "      <td>-0.023156</td>\n",
       "      <td>-0.012462</td>\n",
       "      <td>-0.006833</td>\n",
       "      <td>0.246487</td>\n",
       "      <td>-0.001425</td>\n",
       "    </tr>\n",
       "    <tr>\n",
       "      <th>1</th>\n",
       "      <td>-0.160072</td>\n",
       "      <td>-0.011815</td>\n",
       "      <td>0.039225</td>\n",
       "      <td>-0.002665</td>\n",
       "      <td>-0.002235</td>\n",
       "      <td>-0.052816</td>\n",
       "      <td>-0.007462</td>\n",
       "      <td>0.638815</td>\n",
       "      <td>-0.004408</td>\n",
       "      <td>-0.01751</td>\n",
       "      <td>...</td>\n",
       "      <td>-0.003632</td>\n",
       "      <td>-0.2415</td>\n",
       "      <td>-0.025415</td>\n",
       "      <td>-0.018415</td>\n",
       "      <td>-0.020749</td>\n",
       "      <td>-0.023156</td>\n",
       "      <td>-0.012462</td>\n",
       "      <td>-0.006833</td>\n",
       "      <td>0.246487</td>\n",
       "      <td>-0.001425</td>\n",
       "    </tr>\n",
       "    <tr>\n",
       "      <th>2</th>\n",
       "      <td>-0.160072</td>\n",
       "      <td>-0.011141</td>\n",
       "      <td>-0.057788</td>\n",
       "      <td>-0.002665</td>\n",
       "      <td>-0.002235</td>\n",
       "      <td>-0.052816</td>\n",
       "      <td>-0.007462</td>\n",
       "      <td>0.638815</td>\n",
       "      <td>-0.004408</td>\n",
       "      <td>-0.01751</td>\n",
       "      <td>...</td>\n",
       "      <td>-0.003632</td>\n",
       "      <td>-0.2415</td>\n",
       "      <td>-0.025415</td>\n",
       "      <td>-0.018415</td>\n",
       "      <td>-0.020749</td>\n",
       "      <td>-0.023156</td>\n",
       "      <td>-0.012462</td>\n",
       "      <td>-0.006833</td>\n",
       "      <td>0.246487</td>\n",
       "      <td>-0.001425</td>\n",
       "    </tr>\n",
       "    <tr>\n",
       "      <th>3</th>\n",
       "      <td>-0.160072</td>\n",
       "      <td>-0.011168</td>\n",
       "      <td>-0.034152</td>\n",
       "      <td>-0.002665</td>\n",
       "      <td>-0.002235</td>\n",
       "      <td>-0.052816</td>\n",
       "      <td>-0.007462</td>\n",
       "      <td>0.638815</td>\n",
       "      <td>-0.004408</td>\n",
       "      <td>-0.01751</td>\n",
       "      <td>...</td>\n",
       "      <td>-0.003632</td>\n",
       "      <td>-0.2415</td>\n",
       "      <td>-0.025415</td>\n",
       "      <td>-0.018415</td>\n",
       "      <td>-0.020749</td>\n",
       "      <td>-0.023156</td>\n",
       "      <td>-0.012462</td>\n",
       "      <td>-0.006833</td>\n",
       "      <td>0.246487</td>\n",
       "      <td>-0.001425</td>\n",
       "    </tr>\n",
       "    <tr>\n",
       "      <th>4</th>\n",
       "      <td>-0.160072</td>\n",
       "      <td>-0.011114</td>\n",
       "      <td>-0.079601</td>\n",
       "      <td>-0.002665</td>\n",
       "      <td>-0.002235</td>\n",
       "      <td>-0.052816</td>\n",
       "      <td>-0.007462</td>\n",
       "      <td>0.638815</td>\n",
       "      <td>-0.004408</td>\n",
       "      <td>-0.01751</td>\n",
       "      <td>...</td>\n",
       "      <td>-0.003632</td>\n",
       "      <td>-0.2415</td>\n",
       "      <td>-0.025415</td>\n",
       "      <td>-0.018415</td>\n",
       "      <td>-0.020749</td>\n",
       "      <td>-0.023156</td>\n",
       "      <td>-0.012462</td>\n",
       "      <td>-0.006833</td>\n",
       "      <td>0.246487</td>\n",
       "      <td>-0.001425</td>\n",
       "    </tr>\n",
       "  </tbody>\n",
       "</table>\n",
       "<p>5 rows × 84 columns</p>\n",
       "</div>"
      ],
      "text/plain": [
       "          0         4         5         6         8         9        10  \\\n",
       "0 -0.160072 -0.011332  1.231248 -0.002665 -0.002235 -0.052816 -0.007462   \n",
       "1 -0.160072 -0.011815  0.039225 -0.002665 -0.002235 -0.052816 -0.007462   \n",
       "2 -0.160072 -0.011141 -0.057788 -0.002665 -0.002235 -0.052816 -0.007462   \n",
       "3 -0.160072 -0.011168 -0.034152 -0.002665 -0.002235 -0.052816 -0.007462   \n",
       "4 -0.160072 -0.011114 -0.079601 -0.002665 -0.002235 -0.052816 -0.007462   \n",
       "\n",
       "         11        12       13  ...     3_OTH   3_REJ    3_RSTO    3_RSTR  \\\n",
       "0  0.638815 -0.004408 -0.01751  ... -0.003632 -0.2415 -0.025415 -0.018415   \n",
       "1  0.638815 -0.004408 -0.01751  ... -0.003632 -0.2415 -0.025415 -0.018415   \n",
       "2  0.638815 -0.004408 -0.01751  ... -0.003632 -0.2415 -0.025415 -0.018415   \n",
       "3  0.638815 -0.004408 -0.01751  ... -0.003632 -0.2415 -0.025415 -0.018415   \n",
       "4  0.638815 -0.004408 -0.01751  ... -0.003632 -0.2415 -0.025415 -0.018415   \n",
       "\n",
       "       3_S0      3_S1      3_S2      3_S3      3_SF      3_SH  \n",
       "0 -0.020749 -0.023156 -0.012462 -0.006833  0.246487 -0.001425  \n",
       "1 -0.020749 -0.023156 -0.012462 -0.006833  0.246487 -0.001425  \n",
       "2 -0.020749 -0.023156 -0.012462 -0.006833  0.246487 -0.001425  \n",
       "3 -0.020749 -0.023156 -0.012462 -0.006833  0.246487 -0.001425  \n",
       "4 -0.020749 -0.023156 -0.012462 -0.006833  0.246487 -0.001425  \n",
       "\n",
       "[5 rows x 84 columns]"
      ]
     },
     "execution_count": 14,
     "metadata": {},
     "output_type": "execute_result"
    }
   ],
   "source": [
    "kddCupTrain[featuresList] = scaler.transform(kddCupTrain[featuresList])\n",
    "kddCupTrain.head()"
   ]
  },
  {
   "cell_type": "code",
   "execution_count": 32,
   "metadata": {},
   "outputs": [],
   "source": [
    "import pandas as pd\n",
    "from pandas.plotting import scatter_matrix\n",
    "import numpy as np\n",
    "import pickle\n",
    "import matplotlib.pyplot as plt\n",
    "from scipy import stats\n",
    "import tensorflow as tf\n",
    "from pylab import rcParams\n",
    "from sklearn.model_selection import train_test_split\n",
    "from sklearn.linear_model import LogisticRegression\n",
    "from sklearn.metrics import mean_squared_error\n",
    "import h5py\n",
    "from keras.models import Model, load_model\n",
    "from keras.layers import Input, Dense, Dropout, BatchNormalization\n",
    "from keras.callbacks import ModelCheckpoint, EarlyStopping\n",
    "from keras import regularizers\n",
    "RANDOM_SEED = 42\n",
    "LABELS = [\"Normal\", \"Fraud\"]"
   ]
  },
  {
   "cell_type": "markdown",
   "metadata": {},
   "source": [
    "# Split the data into train and test subsets"
   ]
  },
  {
   "cell_type": "code",
   "execution_count": 23,
   "metadata": {},
   "outputs": [],
   "source": [
    "X_train_split, X_test_split = train_test_split(kddCupTrain, test_size=0.2,\n",
    "                                   stratify=kddCupTrain['Class'], \n",
    "                                   random_state=RANDOM_SEED)"
   ]
  },
  {
   "cell_type": "markdown",
   "metadata": {},
   "source": [
    "# Detach the labels from the train and the test datasets\n"
   ]
  },
  {
   "cell_type": "code",
   "execution_count": 24,
   "metadata": {},
   "outputs": [
    {
     "name": "stdout",
     "output_type": "stream",
     "text": [
      "Train: shape X (788209, 83) , shape Y (788209,)\n",
      "Test: shape X (197053, 83) , shape Y (197053,)\n"
     ]
    }
   ],
   "source": [
    "y_train = X_train_split['Class']\n",
    "X_train = X_train_split.drop(['Class'], axis=1)\n",
    "\n",
    "y_test = X_test_split['Class']\n",
    "X_test = X_test_split.drop(['Class'], axis=1)\n",
    "print('Train: shape X',X_train.shape,', shape Y',y_train.shape)\n",
    "print('Test: shape X',X_test.shape,', shape Y',y_test.shape)"
   ]
  },
  {
   "cell_type": "markdown",
   "metadata": {},
   "source": [
    "# Separate the \"normal\" instances"
   ]
  },
  {
   "cell_type": "code",
   "execution_count": 25,
   "metadata": {},
   "outputs": [],
   "source": [
    "X_trainNorm = X_train[y_train == 0]\n",
    "X_trainNorm_val = X_trainNorm.values # Only values, axis labels removed. This is input for the Autoencoder\n",
    "X_testNorm_val = X_test[y_test == 0].values # The validation data"
   ]
  },
  {
   "cell_type": "code",
   "execution_count": 26,
   "metadata": {},
   "outputs": [
    {
     "name": "stdout",
     "output_type": "stream",
     "text": [
      "(788209,)\n",
      "(788209, 83)\n"
     ]
    }
   ],
   "source": [
    "print(y_train.shape)\n",
    "print(X_train.shape)"
   ]
  },
  {
   "cell_type": "code",
   "execution_count": 27,
   "metadata": {},
   "outputs": [
    {
     "data": {
      "text/plain": [
       "(778224, 83)"
      ]
     },
     "execution_count": 27,
     "metadata": {},
     "output_type": "execute_result"
    }
   ],
   "source": [
    "X_trainNorm_val.shape"
   ]
  },
  {
   "cell_type": "markdown",
   "metadata": {},
   "source": [
    "# Build the model\n"
   ]
  },
  {
   "cell_type": "markdown",
   "metadata": {},
   "source": [
    "# Select architecture of autoencoder"
   ]
  },
  {
   "cell_type": "code",
   "execution_count": 28,
   "metadata": {},
   "outputs": [],
   "source": [
    "input_dim = X_trainNorm_val.shape[1]\n",
    "layer1_dim = 14\n",
    "encoder_dim = 7"
   ]
  },
  {
   "cell_type": "code",
   "execution_count": 33,
   "metadata": {},
   "outputs": [
    {
     "name": "stdout",
     "output_type": "stream",
     "text": [
      "WARNING:tensorflow:From /anaconda3/envs/capstone/lib/python3.6/site-packages/keras/backend/tensorflow_backend.py:3445: calling dropout (from tensorflow.python.ops.nn_ops) with keep_prob is deprecated and will be removed in a future version.\n",
      "Instructions for updating:\n",
      "Please use `rate` instead of `keep_prob`. Rate should be set to `rate = 1 - keep_prob`.\n",
      "input_layer:  Tensor(\"input_3:0\", shape=(?, 83), dtype=float32)\n",
      "encoder1 Tensor(\"dense_7/Tanh:0\", shape=(?, 14), dtype=float32)\n",
      "encoder2 Tensor(\"dropout_1/cond/Merge:0\", shape=(?, 7), dtype=float32)\n",
      "decoder1 Tensor(\"dense_9/Tanh:0\", shape=(?, 14), dtype=float32)\n",
      "decoder2 Tensor(\"dense_10/BiasAdd:0\", shape=(?, 83), dtype=float32)\n"
     ]
    }
   ],
   "source": [
    "input_layer = Input(shape=(input_dim, ))\n",
    "\n",
    "encoder1 = Dense(layer1_dim, activation=\"tanh\", \n",
    "                activity_regularizer=regularizers.l1(10e-5))(input_layer)\n",
    "encoder2 = Dense(encoder_dim, activation=\"relu\")(encoder1)\n",
    "encoder2 = BatchNormalization()(encoder2)\n",
    "encoder2 = Dropout(rate=0.3)(encoder2)\n",
    "decoder1 = Dense(layer1_dim, activation='tanh')(encoder2)\n",
    "decoder2 = Dense(input_dim, activation='linear')(decoder1)\n",
    "print('input_layer: ',input_layer)\n",
    "print('encoder1',encoder1)\n",
    "print('encoder2',encoder2)\n",
    "print('decoder1',decoder1)\n",
    "print('decoder2',decoder2)"
   ]
  },
  {
   "cell_type": "code",
   "execution_count": 34,
   "metadata": {},
   "outputs": [
    {
     "name": "stdout",
     "output_type": "stream",
     "text": [
      "_________________________________________________________________\n",
      "Layer (type)                 Output Shape              Param #   \n",
      "=================================================================\n",
      "input_3 (InputLayer)         (None, 83)                0         \n",
      "_________________________________________________________________\n",
      "dense_7 (Dense)              (None, 14)                1176      \n",
      "_________________________________________________________________\n",
      "dense_8 (Dense)              (None, 7)                 105       \n",
      "_________________________________________________________________\n",
      "batch_normalization_1 (Batch (None, 7)                 28        \n",
      "_________________________________________________________________\n",
      "dropout_1 (Dropout)          (None, 7)                 0         \n",
      "_________________________________________________________________\n",
      "dense_9 (Dense)              (None, 14)                112       \n",
      "_________________________________________________________________\n",
      "dense_10 (Dense)             (None, 83)                1245      \n",
      "=================================================================\n",
      "Total params: 2,666\n",
      "Trainable params: 2,652\n",
      "Non-trainable params: 14\n",
      "_________________________________________________________________\n"
     ]
    }
   ],
   "source": [
    "autoencoder = Model(inputs=input_layer, outputs=decoder2)\n",
    "autoencoder.summary()"
   ]
  },
  {
   "cell_type": "markdown",
   "metadata": {},
   "source": [
    "# Fit the model"
   ]
  },
  {
   "cell_type": "code",
   "execution_count": 36,
   "metadata": {},
   "outputs": [
    {
     "name": "stdout",
     "output_type": "stream",
     "text": [
      "Train on 778224 samples, validate on 194557 samples\n",
      "Epoch 1/100\n",
      "778224/778224 [==============================] - 53s 68us/step - loss: 0.6111 - val_loss: 0.5562\n",
      "Epoch 2/100\n",
      "778224/778224 [==============================] - 53s 68us/step - loss: 0.6094 - val_loss: 0.5561\n",
      "Epoch 3/100\n",
      "778224/778224 [==============================] - 50s 64us/step - loss: 0.6083 - val_loss: 0.5488\n",
      "Epoch 4/100\n",
      "778224/778224 [==============================] - 49s 64us/step - loss: 0.6083 - val_loss: 0.5499\n"
     ]
    }
   ],
   "source": [
    "nb_epoch = 100\n",
    "batch_size = 32\n",
    "\n",
    "autoencoder.compile(optimizer='adam', \n",
    "                    loss='mean_squared_error')\n",
    "\n",
    "checkpointer = ModelCheckpoint(filepath=\"autoencoder.h5\",\n",
    "                               verbose=0,\n",
    "                               save_best_only=True)\n",
    "earlystopping = EarlyStopping(monitor='val_loss', patience=1, verbose=0) # 'patience' number of not improving epochs\n",
    "history = autoencoder.fit(X_trainNorm_val, X_trainNorm_val,\n",
    "                    epochs=nb_epoch,\n",
    "                    batch_size=batch_size,\n",
    "                    shuffle=True,\n",
    "                    validation_data=(X_testNorm_val, X_testNorm_val),\n",
    "                    verbose=1,\n",
    "                    callbacks=[checkpointer, #tensorboard, \n",
    "                               earlystopping]).history"
   ]
  },
  {
   "cell_type": "markdown",
   "metadata": {},
   "source": [
    "# Load the fitted autoencoder"
   ]
  },
  {
   "cell_type": "code",
   "execution_count": 37,
   "metadata": {},
   "outputs": [],
   "source": [
    "autoencoder = load_model('autoencoder.h5')"
   ]
  },
  {
   "cell_type": "code",
   "execution_count": 38,
   "metadata": {},
   "outputs": [
    {
     "data": {
      "text/plain": [
       "((197053, 83), (197053, 83))"
      ]
     },
     "execution_count": 38,
     "metadata": {},
     "output_type": "execute_result"
    }
   ],
   "source": [
    "testPredictions = autoencoder.predict(X_test)\n",
    "X_test.shape,testPredictions.shape"
   ]
  },
  {
   "cell_type": "code",
   "execution_count": 39,
   "metadata": {},
   "outputs": [
    {
     "data": {
      "text/html": [
       "<div>\n",
       "<style scoped>\n",
       "    .dataframe tbody tr th:only-of-type {\n",
       "        vertical-align: middle;\n",
       "    }\n",
       "\n",
       "    .dataframe tbody tr th {\n",
       "        vertical-align: top;\n",
       "    }\n",
       "\n",
       "    .dataframe thead th {\n",
       "        text-align: right;\n",
       "    }\n",
       "</style>\n",
       "<table border=\"1\" class=\"dataframe\">\n",
       "  <thead>\n",
       "    <tr style=\"text-align: right;\">\n",
       "      <th></th>\n",
       "      <th>reconstruction_error</th>\n",
       "      <th>true_class</th>\n",
       "    </tr>\n",
       "  </thead>\n",
       "  <tbody>\n",
       "    <tr>\n",
       "      <th>940543</th>\n",
       "      <td>1.348720</td>\n",
       "      <td>1</td>\n",
       "    </tr>\n",
       "    <tr>\n",
       "      <th>356110</th>\n",
       "      <td>0.092566</td>\n",
       "      <td>0</td>\n",
       "    </tr>\n",
       "    <tr>\n",
       "      <th>540178</th>\n",
       "      <td>0.005591</td>\n",
       "      <td>0</td>\n",
       "    </tr>\n",
       "    <tr>\n",
       "      <th>672514</th>\n",
       "      <td>0.018961</td>\n",
       "      <td>0</td>\n",
       "    </tr>\n",
       "    <tr>\n",
       "      <th>244980</th>\n",
       "      <td>0.004376</td>\n",
       "      <td>0</td>\n",
       "    </tr>\n",
       "  </tbody>\n",
       "</table>\n",
       "</div>"
      ],
      "text/plain": [
       "        reconstruction_error  true_class\n",
       "940543              1.348720           1\n",
       "356110              0.092566           0\n",
       "540178              0.005591           0\n",
       "672514              0.018961           0\n",
       "244980              0.004376           0"
      ]
     },
     "execution_count": 39,
     "metadata": {},
     "output_type": "execute_result"
    }
   ],
   "source": [
    "testMSE = mean_squared_error(X_test.transpose(), testPredictions.transpose(),\n",
    "                              multioutput='raw_values')\n",
    "error_df = pd.DataFrame({'reconstruction_error': testMSE,'true_class': y_test})\n",
    "error_df.head()"
   ]
  },
  {
   "cell_type": "code",
   "execution_count": 40,
   "metadata": {},
   "outputs": [
    {
     "data": {
      "text/plain": [
       "(197053, 2)"
      ]
     },
     "execution_count": 40,
     "metadata": {},
     "output_type": "execute_result"
    }
   ],
   "source": [
    "error_df.shape"
   ]
  },
  {
   "cell_type": "code",
   "execution_count": 41,
   "metadata": {},
   "outputs": [
    {
     "data": {
      "text/plain": [
       "count    197053.000000\n",
       "mean          0.654718\n",
       "std          31.462464\n",
       "min           0.001419\n",
       "25%           0.020034\n",
       "50%           0.027897\n",
       "75%           0.085133\n",
       "max        8627.359070\n",
       "Name: reconstruction_error, dtype: float64"
      ]
     },
     "execution_count": 41,
     "metadata": {},
     "output_type": "execute_result"
    }
   ],
   "source": [
    "error_df.reconstruction_error.describe()"
   ]
  },
  {
   "cell_type": "markdown",
   "metadata": {},
   "source": [
    "# Evaluation"
   ]
  },
  {
   "cell_type": "code",
   "execution_count": 42,
   "metadata": {},
   "outputs": [],
   "source": [
    "from sklearn.metrics import (confusion_matrix, auc, roc_curve, cohen_kappa_score, accuracy_score)"
   ]
  },
  {
   "cell_type": "code",
   "execution_count": 43,
   "metadata": {},
   "outputs": [
    {
     "data": {
      "image/png": "[encoded data removed]",
      "text/plain": [
       "<Figure size 432x288 with 1 Axes>"
      ]
     },
     "metadata": {
      "needs_background": "light"
     },
     "output_type": "display_data"
    }
   ],
   "source": [
    "fpr, tpr, thresholds = roc_curve(error_df.true_class, error_df.reconstruction_error)\n",
    "roc_auc = auc(fpr, tpr)\n",
    "\n",
    "plt.title('Receiver Operating Characteristic')\n",
    "plt.plot(fpr, tpr, label='AUC = %0.4f'% roc_auc)\n",
    "plt.legend(loc='lower right')\n",
    "plt.plot([0,1],[0,1],'r--')\n",
    "plt.xlim([-0.001, 1])\n",
    "plt.ylim([0, 1.001])\n",
    "plt.ylabel('True Positive Rate')\n",
    "plt.xlabel('False Positive Rate')\n",
    "plt.show();"
   ]
  },
  {
   "cell_type": "markdown",
   "metadata": {},
   "source": [
    "# Create submission"
   ]
  },
  {
   "cell_type": "code",
   "execution_count": 67,
   "metadata": {},
   "outputs": [
    {
     "name": "stdout",
     "output_type": "stream",
     "text": [
      "   0    1        2   3     4      5   6   7   8   9   ...   31   32    33  \\\n",
      "0   0  tcp     http  SF   230  10066   0   0   0   0  ...  255  255  1.00   \n",
      "1   0  udp  private  SF   105    145   0   0   0   0  ...  255  227  0.89   \n",
      "2   1  tcp     smtp  SF  1888    374   0   0   0   0  ...  255  174  0.68   \n",
      "\n",
      "     34   35   36   37   38   39   40  \n",
      "0  0.00  0.0  0.0  0.0  0.0  0.0  0.0  \n",
      "1  0.01  0.0  0.0  0.0  0.0  0.0  0.0  \n",
      "2  0.03  0.0  0.0  0.0  0.0  0.0  0.0  \n",
      "\n",
      "[3 rows x 41 columns]\n"
     ]
    }
   ],
   "source": [
    "kddCupTest = pd.read_csv('KddCupData/kddCupTest.csv', header=None)\n",
    "print(kddCupTest.head(3))"
   ]
  },
  {
   "cell_type": "markdown",
   "metadata": {},
   "source": [
    "# Do \"One hot\" transformation of categorical features"
   ]
  },
  {
   "cell_type": "code",
   "execution_count": 68,
   "metadata": {},
   "outputs": [],
   "source": [
    "columnsList = [19,7]\n",
    "kddCupTest.drop(columnsList, axis=1, inplace=True)\n",
    "kddCupTest = pd.get_dummies(kddCupTest, columns = [1,2,3])"
   ]
  },
  {
   "cell_type": "code",
   "execution_count": 69,
   "metadata": {},
   "outputs": [],
   "source": [
    "featuresList1 = [col for col in kddCupTrain if col != 'Class']"
   ]
  },
  {
   "cell_type": "code",
   "execution_count": 70,
   "metadata": {},
   "outputs": [
    {
     "name": "stdout",
     "output_type": "stream",
     "text": [
      "missing_cols:  {'3_SH', '2_tftp_u'}\n"
     ]
    },
    {
     "data": {
      "text/html": [
       "<div>\n",
       "<style scoped>\n",
       "    .dataframe tbody tr th:only-of-type {\n",
       "        vertical-align: middle;\n",
       "    }\n",
       "\n",
       "    .dataframe tbody tr th {\n",
       "        vertical-align: top;\n",
       "    }\n",
       "\n",
       "    .dataframe thead th {\n",
       "        text-align: right;\n",
       "    }\n",
       "</style>\n",
       "<table border=\"1\" class=\"dataframe\">\n",
       "  <thead>\n",
       "    <tr style=\"text-align: right;\">\n",
       "      <th></th>\n",
       "      <th>0</th>\n",
       "      <th>4</th>\n",
       "      <th>5</th>\n",
       "      <th>6</th>\n",
       "      <th>8</th>\n",
       "      <th>9</th>\n",
       "      <th>10</th>\n",
       "      <th>11</th>\n",
       "      <th>12</th>\n",
       "      <th>13</th>\n",
       "      <th>...</th>\n",
       "      <th>3_OTH</th>\n",
       "      <th>3_REJ</th>\n",
       "      <th>3_RSTO</th>\n",
       "      <th>3_RSTR</th>\n",
       "      <th>3_S0</th>\n",
       "      <th>3_S1</th>\n",
       "      <th>3_S2</th>\n",
       "      <th>3_S3</th>\n",
       "      <th>3_SF</th>\n",
       "      <th>3_SH</th>\n",
       "    </tr>\n",
       "  </thead>\n",
       "  <tbody>\n",
       "    <tr>\n",
       "      <th>0</th>\n",
       "      <td>0</td>\n",
       "      <td>230</td>\n",
       "      <td>10066</td>\n",
       "      <td>0</td>\n",
       "      <td>0</td>\n",
       "      <td>0</td>\n",
       "      <td>0</td>\n",
       "      <td>1</td>\n",
       "      <td>0</td>\n",
       "      <td>0</td>\n",
       "      <td>...</td>\n",
       "      <td>0</td>\n",
       "      <td>0</td>\n",
       "      <td>0</td>\n",
       "      <td>0</td>\n",
       "      <td>0</td>\n",
       "      <td>0</td>\n",
       "      <td>0</td>\n",
       "      <td>0</td>\n",
       "      <td>1</td>\n",
       "      <td>0</td>\n",
       "    </tr>\n",
       "    <tr>\n",
       "      <th>1</th>\n",
       "      <td>0</td>\n",
       "      <td>105</td>\n",
       "      <td>145</td>\n",
       "      <td>0</td>\n",
       "      <td>0</td>\n",
       "      <td>0</td>\n",
       "      <td>0</td>\n",
       "      <td>0</td>\n",
       "      <td>0</td>\n",
       "      <td>0</td>\n",
       "      <td>...</td>\n",
       "      <td>0</td>\n",
       "      <td>0</td>\n",
       "      <td>0</td>\n",
       "      <td>0</td>\n",
       "      <td>0</td>\n",
       "      <td>0</td>\n",
       "      <td>0</td>\n",
       "      <td>0</td>\n",
       "      <td>1</td>\n",
       "      <td>0</td>\n",
       "    </tr>\n",
       "  </tbody>\n",
       "</table>\n",
       "<p>2 rows × 83 columns</p>\n",
       "</div>"
      ],
      "text/plain": [
       "   0    4      5  6  8  9  10  11  12  13  ...  3_OTH  3_REJ  3_RSTO  3_RSTR  \\\n",
       "0  0  230  10066  0  0  0   0   1   0   0  ...      0      0       0       0   \n",
       "1  0  105    145  0  0  0   0   0   0   0  ...      0      0       0       0   \n",
       "\n",
       "   3_S0  3_S1  3_S2  3_S3  3_SF  3_SH  \n",
       "0     0     0     0     0     1     0  \n",
       "1     0     0     0     0     1     0  \n",
       "\n",
       "[2 rows x 83 columns]"
      ]
     },
     "execution_count": 70,
     "metadata": {},
     "output_type": "execute_result"
    }
   ],
   "source": [
    "missing_cols = set(kddCupTrain[featuresList1]) - set(kddCupTest.columns)\n",
    "print('missing_cols: ',missing_cols)\n",
    "for c in missing_cols:\n",
    "    kddCupTest[c] = 0\n",
    "kddCupTest = kddCupTest[featuresList1].copy()\n",
    "kddCupTest.head(2)"
   ]
  },
  {
   "cell_type": "markdown",
   "metadata": {},
   "source": [
    "# Standardize the test dataset"
   ]
  },
  {
   "cell_type": "code",
   "execution_count": 71,
   "metadata": {},
   "outputs": [],
   "source": [
    "featuresList2 = [col for col in kddCupTest]"
   ]
  },
  {
   "cell_type": "code",
   "execution_count": 72,
   "metadata": {},
   "outputs": [],
   "source": [
    "scaler = preprocessing.StandardScaler()\n",
    "scaler.fit(kddCupTest[featuresList2]);\n"
   ]
  },
  {
   "cell_type": "code",
   "execution_count": 73,
   "metadata": {},
   "outputs": [
    {
     "data": {
      "text/html": [
       "<div>\n",
       "<style scoped>\n",
       "    .dataframe tbody tr th:only-of-type {\n",
       "        vertical-align: middle;\n",
       "    }\n",
       "\n",
       "    .dataframe tbody tr th {\n",
       "        vertical-align: top;\n",
       "    }\n",
       "\n",
       "    .dataframe thead th {\n",
       "        text-align: right;\n",
       "    }\n",
       "</style>\n",
       "<table border=\"1\" class=\"dataframe\">\n",
       "  <thead>\n",
       "    <tr style=\"text-align: right;\">\n",
       "      <th></th>\n",
       "      <th>0</th>\n",
       "      <th>4</th>\n",
       "      <th>5</th>\n",
       "      <th>6</th>\n",
       "      <th>8</th>\n",
       "      <th>9</th>\n",
       "      <th>10</th>\n",
       "      <th>11</th>\n",
       "      <th>12</th>\n",
       "      <th>13</th>\n",
       "      <th>...</th>\n",
       "      <th>3_OTH</th>\n",
       "      <th>3_REJ</th>\n",
       "      <th>3_RSTO</th>\n",
       "      <th>3_RSTR</th>\n",
       "      <th>3_S0</th>\n",
       "      <th>3_S1</th>\n",
       "      <th>3_S2</th>\n",
       "      <th>3_S3</th>\n",
       "      <th>3_SF</th>\n",
       "      <th>3_SH</th>\n",
       "    </tr>\n",
       "  </thead>\n",
       "  <tbody>\n",
       "    <tr>\n",
       "      <th>0</th>\n",
       "      <td>-0.161814</td>\n",
       "      <td>-0.021112</td>\n",
       "      <td>0.213319</td>\n",
       "      <td>0.0</td>\n",
       "      <td>-0.0034</td>\n",
       "      <td>-0.051868</td>\n",
       "      <td>-0.007121</td>\n",
       "      <td>0.636295</td>\n",
       "      <td>-0.006817</td>\n",
       "      <td>-0.016577</td>\n",
       "      <td>...</td>\n",
       "      <td>-0.003907</td>\n",
       "      <td>-0.262899</td>\n",
       "      <td>-0.025427</td>\n",
       "      <td>-0.017763</td>\n",
       "      <td>-0.032937</td>\n",
       "      <td>-0.024613</td>\n",
       "      <td>-0.01276</td>\n",
       "      <td>-0.007133</td>\n",
       "      <td>0.269105</td>\n",
       "      <td>0.0</td>\n",
       "    </tr>\n",
       "    <tr>\n",
       "      <th>1</th>\n",
       "      <td>-0.161814</td>\n",
       "      <td>-0.023648</td>\n",
       "      <td>-0.095420</td>\n",
       "      <td>0.0</td>\n",
       "      <td>-0.0034</td>\n",
       "      <td>-0.051868</td>\n",
       "      <td>-0.007121</td>\n",
       "      <td>-1.571597</td>\n",
       "      <td>-0.006817</td>\n",
       "      <td>-0.016577</td>\n",
       "      <td>...</td>\n",
       "      <td>-0.003907</td>\n",
       "      <td>-0.262899</td>\n",
       "      <td>-0.025427</td>\n",
       "      <td>-0.017763</td>\n",
       "      <td>-0.032937</td>\n",
       "      <td>-0.024613</td>\n",
       "      <td>-0.01276</td>\n",
       "      <td>-0.007133</td>\n",
       "      <td>0.269105</td>\n",
       "      <td>0.0</td>\n",
       "    </tr>\n",
       "    <tr>\n",
       "      <th>2</th>\n",
       "      <td>-0.161069</td>\n",
       "      <td>0.012523</td>\n",
       "      <td>-0.088293</td>\n",
       "      <td>0.0</td>\n",
       "      <td>-0.0034</td>\n",
       "      <td>-0.051868</td>\n",
       "      <td>-0.007121</td>\n",
       "      <td>0.636295</td>\n",
       "      <td>-0.006817</td>\n",
       "      <td>-0.016577</td>\n",
       "      <td>...</td>\n",
       "      <td>-0.003907</td>\n",
       "      <td>-0.262899</td>\n",
       "      <td>-0.025427</td>\n",
       "      <td>-0.017763</td>\n",
       "      <td>-0.032937</td>\n",
       "      <td>-0.024613</td>\n",
       "      <td>-0.01276</td>\n",
       "      <td>-0.007133</td>\n",
       "      <td>0.269105</td>\n",
       "      <td>0.0</td>\n",
       "    </tr>\n",
       "    <tr>\n",
       "      <th>3</th>\n",
       "      <td>-0.161814</td>\n",
       "      <td>-0.019083</td>\n",
       "      <td>-0.053968</td>\n",
       "      <td>0.0</td>\n",
       "      <td>-0.0034</td>\n",
       "      <td>-0.051868</td>\n",
       "      <td>-0.007121</td>\n",
       "      <td>0.636295</td>\n",
       "      <td>-0.006817</td>\n",
       "      <td>-0.016577</td>\n",
       "      <td>...</td>\n",
       "      <td>-0.003907</td>\n",
       "      <td>-0.262899</td>\n",
       "      <td>-0.025427</td>\n",
       "      <td>-0.017763</td>\n",
       "      <td>-0.032937</td>\n",
       "      <td>-0.024613</td>\n",
       "      <td>-0.01276</td>\n",
       "      <td>-0.007133</td>\n",
       "      <td>0.269105</td>\n",
       "      <td>0.0</td>\n",
       "    </tr>\n",
       "    <tr>\n",
       "      <th>4</th>\n",
       "      <td>1.794381</td>\n",
       "      <td>-0.022816</td>\n",
       "      <td>-0.096664</td>\n",
       "      <td>0.0</td>\n",
       "      <td>-0.0034</td>\n",
       "      <td>-0.051868</td>\n",
       "      <td>-0.007121</td>\n",
       "      <td>-1.571597</td>\n",
       "      <td>-0.006817</td>\n",
       "      <td>-0.016577</td>\n",
       "      <td>...</td>\n",
       "      <td>-0.003907</td>\n",
       "      <td>-0.262899</td>\n",
       "      <td>-0.025427</td>\n",
       "      <td>-0.017763</td>\n",
       "      <td>-0.032937</td>\n",
       "      <td>-0.024613</td>\n",
       "      <td>-0.01276</td>\n",
       "      <td>-0.007133</td>\n",
       "      <td>0.269105</td>\n",
       "      <td>0.0</td>\n",
       "    </tr>\n",
       "  </tbody>\n",
       "</table>\n",
       "<p>5 rows × 83 columns</p>\n",
       "</div>"
      ],
      "text/plain": [
       "          0         4         5    6       8         9        10        11  \\\n",
       "0 -0.161814 -0.021112  0.213319  0.0 -0.0034 -0.051868 -0.007121  0.636295   \n",
       "1 -0.161814 -0.023648 -0.095420  0.0 -0.0034 -0.051868 -0.007121 -1.571597   \n",
       "2 -0.161069  0.012523 -0.088293  0.0 -0.0034 -0.051868 -0.007121  0.636295   \n",
       "3 -0.161814 -0.019083 -0.053968  0.0 -0.0034 -0.051868 -0.007121  0.636295   \n",
       "4  1.794381 -0.022816 -0.096664  0.0 -0.0034 -0.051868 -0.007121 -1.571597   \n",
       "\n",
       "         12        13  ...     3_OTH     3_REJ    3_RSTO    3_RSTR      3_S0  \\\n",
       "0 -0.006817 -0.016577  ... -0.003907 -0.262899 -0.025427 -0.017763 -0.032937   \n",
       "1 -0.006817 -0.016577  ... -0.003907 -0.262899 -0.025427 -0.017763 -0.032937   \n",
       "2 -0.006817 -0.016577  ... -0.003907 -0.262899 -0.025427 -0.017763 -0.032937   \n",
       "3 -0.006817 -0.016577  ... -0.003907 -0.262899 -0.025427 -0.017763 -0.032937   \n",
       "4 -0.006817 -0.016577  ... -0.003907 -0.262899 -0.025427 -0.017763 -0.032937   \n",
       "\n",
       "       3_S1     3_S2      3_S3      3_SF  3_SH  \n",
       "0 -0.024613 -0.01276 -0.007133  0.269105   0.0  \n",
       "1 -0.024613 -0.01276 -0.007133  0.269105   0.0  \n",
       "2 -0.024613 -0.01276 -0.007133  0.269105   0.0  \n",
       "3 -0.024613 -0.01276 -0.007133  0.269105   0.0  \n",
       "4 -0.024613 -0.01276 -0.007133  0.269105   0.0  \n",
       "\n",
       "[5 rows x 83 columns]"
      ]
     },
     "execution_count": 73,
     "metadata": {},
     "output_type": "execute_result"
    }
   ],
   "source": [
    "kddCupTest[featuresList2] = scaler.transform(kddCupTest[featuresList2])\n",
    "kddCupTest.head()"
   ]
  },
  {
   "cell_type": "code",
   "execution_count": 74,
   "metadata": {},
   "outputs": [
    {
     "data": {
      "text/plain": [
       "(196557, 83)"
      ]
     },
     "execution_count": 74,
     "metadata": {},
     "output_type": "execute_result"
    }
   ],
   "source": [
    "kddCupTest.shape"
   ]
  },
  {
   "cell_type": "markdown",
   "metadata": {},
   "source": [
    "# Make predictions and save the results to csv file"
   ]
  },
  {
   "cell_type": "code",
   "execution_count": 75,
   "metadata": {},
   "outputs": [
    {
     "data": {
      "text/plain": [
       "((196557, 83), (196557, 83))"
      ]
     },
     "execution_count": 75,
     "metadata": {},
     "output_type": "execute_result"
    }
   ],
   "source": [
    "testPredictions1 = autoencoder.predict(kddCupTest)\n",
    "kddCupTest.shape,kddCupTest.shape"
   ]
  },
  {
   "cell_type": "code",
   "execution_count": 76,
   "metadata": {},
   "outputs": [],
   "source": [
    "testMSE = mean_squared_error(kddCupTest.transpose(), testPredictions1.transpose(),\n",
    "                              multioutput='raw_values')"
   ]
  },
  {
   "cell_type": "code",
   "execution_count": 78,
   "metadata": {},
   "outputs": [],
   "source": [
    "result_df = pd.DataFrame({'reconstruction_error': testMSE})\n",
    "result_df.to_csv('filename.csv')"
   ]
  },
  {
   "cell_type": "code",
   "execution_count": null,
   "metadata": {},
   "outputs": [],
   "source": []
  }
 ],
 "metadata": {
  "kernelspec": {
   "display_name": "Python 3",
   "language": "python",
   "name": "python3"
  },
  "language_info": {
   "codemirror_mode": {
    "name": "ipython",
    "version": 3
   },
   "file_extension": ".py",
   "mimetype": "text/x-python",
   "name": "python",
   "nbconvert_exporter": "python",
   "pygments_lexer": "ipython3",
   "version": "3.6.8"
  }
 },
 "nbformat": 4,
 "nbformat_minor": 2
}
